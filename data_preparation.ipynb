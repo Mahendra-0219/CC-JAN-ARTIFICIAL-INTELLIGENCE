{
 "cells": [
  {
   "cell_type": "code",
   "execution_count": null,
   "metadata": {
    "collapsed": true
   },
   "outputs": [
    {
     "ename": "",
     "evalue": "",
     "output_type": "error",
     "traceback": [
      "\u001b[1;31mThe kernel failed to start due to the missing module 'prompt_toolkit.formatted_text'. Consider installing this module.\n",
      "\u001b[1;31mClick <a href='https://aka.ms/kernelFailuresMissingModule'>here</a> for more info."
     ]
    }
   ],
   "source": [
    "import numpy as np # linear algebra\n",
    "import pandas as pd # data processing, CSV file I/O (e.g. pd.read_csv)\n",
    "\n",
    "# Input data files are available in the \"../input/\" directory.\n",
    "# For example, running this (by clicking run or pressing Shift+Enter) will list the files in the input directory\n",
    "import shutil\n",
    "import sys\n",
    "import os"
   ]
  },
  {
   "cell_type": "code",
   "execution_count": null,
   "metadata": {},
   "outputs": [
    {
     "ename": "",
     "evalue": "",
     "output_type": "error",
     "traceback": [
      "\u001b[1;31mThe kernel failed to start due to the missing module 'prompt_toolkit.formatted_text'. Consider installing this module.\n",
      "\u001b[1;31mClick <a href='https://aka.ms/kernelFailuresMissingModule'>here</a> for more info."
     ]
    }
   ],
   "source": [
    "train_df = pd.read_csv('train.csv')\n",
    "test_df = pd.read_csv('test.csv')\n",
    "print(train_df.shape)\n",
    "print(test_df.shape)\n",
    "train_df.head()"
   ]
  },
  {
   "cell_type": "code",
   "execution_count": null,
   "metadata": {
    "collapsed": true
   },
   "outputs": [
    {
     "ename": "",
     "evalue": "",
     "output_type": "error",
     "traceback": [
      "\u001b[1;31mThe kernel failed to start due to the missing module 'prompt_toolkit.formatted_text'. Consider installing this module.\n",
      "\u001b[1;31mClick <a href='https://aka.ms/kernelFailuresMissingModule'>here</a> for more info."
     ]
    }
   ],
   "source": [
    "list_0=[]\n",
    "for a in train_df[train_df['diagnosis']==0]['id_code']:\n",
    "    list_0.append(a)\n",
    "list_1=[]\n",
    "for b in train_df[train_df['diagnosis']==1]['id_code']:\n",
    "    list_1.append(b)\n",
    "list_2=[]\n",
    "for c in train_df[train_df['diagnosis']==2]['id_code']:\n",
    "    list_2.append(c)\n",
    "list_3=[]\n",
    "for d in train_df[train_df['diagnosis']==3]['id_code']:\n",
    "    list_3.append(d)\n",
    "list_4=[]\n",
    "for e in train_df[train_df['diagnosis']==4]['id_code']:\n",
    "    list_4.append(e)"
   ]
  },
  {
   "cell_type": "code",
   "execution_count": null,
   "metadata": {
    "collapsed": true
   },
   "outputs": [
    {
     "ename": "",
     "evalue": "",
     "output_type": "error",
     "traceback": [
      "\u001b[1;31mThe kernel failed to start due to the missing module 'prompt_toolkit.formatted_text'. Consider installing this module.\n",
      "\u001b[1;31mClick <a href='https://aka.ms/kernelFailuresMissingModule'>here</a> for more info."
     ]
    }
   ],
   "source": [
    "train_dir = \"train_image/\"\n",
    "#train_sep_dir = '..input/train_sep/'\n",
    "    # Create subdirectory with `class_name`\n",
    "if not os.path.exists(\"train_split\" + \"4\"):\n",
    "        os.mkdir(\"train_split\" + \"4\")\n",
    "for i in list_4:\n",
    "    src_path = train_dir + i + \".png\"\n",
    "    dst_path = \"train_split\" + \"4\" + \"/\" + i + \".png\"\n",
    "    shutil.copy(src_path, dst_path)"
   ]
  },
  {
   "cell_type": "code",
   "execution_count": null,
   "metadata": {
    "collapsed": true
   },
   "outputs": [
    {
     "ename": "",
     "evalue": "",
     "output_type": "error",
     "traceback": [
      "\u001b[1;31mThe kernel failed to start due to the missing module 'prompt_toolkit.formatted_text'. Consider installing this module.\n",
      "\u001b[1;31mClick <a href='https://aka.ms/kernelFailuresMissingModule'>here</a> for more info."
     ]
    }
   ],
   "source": [
    "train_dir = \"train_image/\"\n",
    "#train_sep_dir = '..input/train_sep/'\n",
    "    # Create subdirectory with `class_name`\n",
    "if not os.path.exists(\"train_split\" + \"3\"):\n",
    "        os.mkdir(\"train_split\" + \"3\")\n",
    "for i in list_3:\n",
    "    src_path = train_dir + i + \".png\"\n",
    "    dst_path = \"train_split\" + \"3\" + \"/\" + i + \".png\"\n",
    "    shutil.copy(src_path, dst_path)"
   ]
  },
  {
   "cell_type": "code",
   "execution_count": null,
   "metadata": {
    "collapsed": true
   },
   "outputs": [
    {
     "ename": "",
     "evalue": "",
     "output_type": "error",
     "traceback": [
      "\u001b[1;31mThe kernel failed to start due to the missing module 'prompt_toolkit.formatted_text'. Consider installing this module.\n",
      "\u001b[1;31mClick <a href='https://aka.ms/kernelFailuresMissingModule'>here</a> for more info."
     ]
    }
   ],
   "source": [
    "train_dir = \"train_image/\"\n",
    "#train_sep_dir = '..input/train_sep/'\n",
    "    # Create subdirectory with `class_name`\n",
    "if not os.path.exists(\"train_split\" + \"2\"):\n",
    "        os.mkdir(\"train_split\" + \"2\")\n",
    "for i in list_2:\n",
    "    src_path = train_dir + i + \".png\"\n",
    "    dst_path = \"train_split\" + \"2\" + \"/\" + i + \".png\"\n",
    "    shutil.copy(src_path, dst_path)"
   ]
  },
  {
   "cell_type": "code",
   "execution_count": null,
   "metadata": {
    "collapsed": true
   },
   "outputs": [
    {
     "ename": "",
     "evalue": "",
     "output_type": "error",
     "traceback": [
      "\u001b[1;31mThe kernel failed to start due to the missing module 'prompt_toolkit.formatted_text'. Consider installing this module.\n",
      "\u001b[1;31mClick <a href='https://aka.ms/kernelFailuresMissingModule'>here</a> for more info."
     ]
    }
   ],
   "source": [
    "train_dir = \"train_image/\"\n",
    "#train_sep_dir = '..input/train_sep/'\n",
    "    # Create subdirectory with `class_name`\n",
    "if not os.path.exists(\"train_split\" + \"1\"):\n",
    "        os.mkdir(\"train_split\" + \"1\")\n",
    "for i in list_1:\n",
    "    src_path = train_dir + i + \".png\"\n",
    "    dst_path = \"train_split\" + \"1\" + \"/\" + i + \".png\"\n",
    "    shutil.copy(src_path, dst_path)"
   ]
  },
  {
   "cell_type": "code",
   "execution_count": null,
   "metadata": {
    "collapsed": true
   },
   "outputs": [
    {
     "ename": "",
     "evalue": "",
     "output_type": "error",
     "traceback": [
      "\u001b[1;31mThe kernel failed to start due to the missing module 'prompt_toolkit.formatted_text'. Consider installing this module.\n",
      "\u001b[1;31mClick <a href='https://aka.ms/kernelFailuresMissingModule'>here</a> for more info."
     ]
    }
   ],
   "source": [
    "train_dir = \"train_image/\"\n",
    "#train_sep_dir = '..input/train_sep/'\n",
    "    # Create subdirectory with `class_name`\n",
    "if not os.path.exists(\"train_split\" + \"0\"):\n",
    "        os.mkdir(\"train_split\" + \"0\")\n",
    "for i in list_0:\n",
    "    src_path = train_dir + i + \".png\"\n",
    "    dst_path = \"train_split\" + \"0\" + \"/\" + i + \".png\"\n",
    "    shutil.copy(src_path, dst_path)"
   ]
  },
  {
   "cell_type": "code",
   "execution_count": null,
   "metadata": {
    "collapsed": true
   },
   "outputs": [
    {
     "ename": "",
     "evalue": "",
     "output_type": "error",
     "traceback": [
      "\u001b[1;31mThe kernel failed to start due to the missing module 'prompt_toolkit.formatted_text'. Consider installing this module.\n",
      "\u001b[1;31mClick <a href='https://aka.ms/kernelFailuresMissingModule'>here</a> for more info."
     ]
    }
   ],
   "source": [
    "import splitfolders\n",
    "input='dataset'\n",
    "output='final_dataset'\n",
    "splitfolders.ratio(input, output=output, seed=1337, ratio=(.8, .1, .1))"
   ]
  },
  {
   "cell_type": "code",
   "execution_count": null,
   "metadata": {
    "collapsed": true
   },
   "outputs": [
    {
     "ename": "",
     "evalue": "",
     "output_type": "error",
     "traceback": [
      "\u001b[1;31mThe kernel failed to start due to the missing module 'prompt_toolkit.formatted_text'. Consider installing this module.\n",
      "\u001b[1;31mClick <a href='https://aka.ms/kernelFailuresMissingModule'>here</a> for more info."
     ]
    }
   ],
   "source": []
  }
 ],
 "metadata": {
  "kernelspec": {
   "display_name": "Python 3",
   "language": "python",
   "name": "python3"
  },
  "language_info": {
   "codemirror_mode": {
    "name": "ipython",
    "version": 3
   },
   "file_extension": ".py",
   "mimetype": "text/x-python",
   "name": "python",
   "nbconvert_exporter": "python",
   "pygments_lexer": "ipython3",
   "version": "3.10.2 (tags/v3.10.2:a58ebcc, Jan 17 2022, 14:12:15) [MSC v.1929 64 bit (AMD64)]"
  },
  "vscode": {
   "interpreter": {
    "hash": "19e1c4a3ec312ab932850bd04ae983c8d663cf80e1c1fee7d9d0cb65455873a9"
   }
  }
 },
 "nbformat": 4,
 "nbformat_minor": 2
}
